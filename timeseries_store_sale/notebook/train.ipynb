{
 "cells": [
  {
   "cell_type": "code",
   "execution_count": 1,
   "id": "b1a0bfee",
   "metadata": {},
   "outputs": [
    {
     "name": "stdout",
     "output_type": "stream",
     "text": [
      "Requirement already satisfied: timeseries-store-sale==0.1.26 in /Users/zhangle/Documents/notebook/myenv/lib/python3.9/site-packages (0.1.26)\n",
      "Requirement already satisfied: numpy>=1.21.5 in /Users/zhangle/Documents/notebook/myenv/lib/python3.9/site-packages (from timeseries-store-sale==0.1.26) (1.24.2)\n",
      "Requirement already satisfied: torch>=1.6.0 in /Users/zhangle/Documents/notebook/myenv/lib/python3.9/site-packages (from timeseries-store-sale==0.1.26) (2.0.0)\n",
      "Requirement already satisfied: keras-tcn>=3.4.0 in /Users/zhangle/Documents/notebook/myenv/lib/python3.9/site-packages (from timeseries-store-sale==0.1.26) (3.5.0)\n",
      "Requirement already satisfied: statsmodels>=0.13.5 in /Users/zhangle/Documents/notebook/myenv/lib/python3.9/site-packages (from timeseries-store-sale==0.1.26) (0.13.5)\n",
      "Requirement already satisfied: cloudpickle>=1.2.2 in /Users/zhangle/Documents/notebook/myenv/lib/python3.9/site-packages (from timeseries-store-sale==0.1.26) (2.2.1)\n",
      "Requirement already satisfied: xgboost>=1.2.0 in /Users/zhangle/Documents/notebook/myenv/lib/python3.9/site-packages (from timeseries-store-sale==0.1.26) (1.7.4)\n",
      "Requirement already satisfied: ngboost>=0.3.13 in /Users/zhangle/Documents/notebook/myenv/lib/python3.9/site-packages (from timeseries-store-sale==0.1.26) (0.4.0)\n",
      "Requirement already satisfied: DateTime>=4.4 in /Users/zhangle/Documents/notebook/myenv/lib/python3.9/site-packages (from timeseries-store-sale==0.1.26) (5.1)\n",
      "Requirement already satisfied: pandas>=1.3.5 in /Users/zhangle/Documents/notebook/myenv/lib/python3.9/site-packages (from timeseries-store-sale==0.1.26) (1.5.3)\n",
      "Requirement already satisfied: matplotlib>=3.1.1 in /Users/zhangle/Documents/notebook/myenv/lib/python3.9/site-packages (from timeseries-store-sale==0.1.26) (3.7.1)\n",
      "Requirement already satisfied: optuna>=2.10.0 in /Users/zhangle/Documents/notebook/myenv/lib/python3.9/site-packages (from timeseries-store-sale==0.1.26) (3.1.0)\n",
      "Requirement already satisfied: scikit-learn>=1.0.2 in /Users/zhangle/Documents/notebook/myenv/lib/python3.9/site-packages (from timeseries-store-sale==0.1.26) (1.2.2)\n",
      "Requirement already satisfied: pickleshare>=0.7.5 in /Users/zhangle/Documents/notebook/myenv/lib/python3.9/site-packages (from timeseries-store-sale==0.1.26) (0.7.5)\n",
      "Requirement already satisfied: zope.interface in /Users/zhangle/Documents/notebook/myenv/lib/python3.9/site-packages (from DateTime>=4.4->timeseries-store-sale==0.1.26) (6.0)\n",
      "Requirement already satisfied: pytz in /Users/zhangle/Documents/notebook/myenv/lib/python3.9/site-packages (from DateTime>=4.4->timeseries-store-sale==0.1.26) (2022.7.1)\n",
      "Requirement already satisfied: tensorflow in /Users/zhangle/Documents/notebook/myenv/lib/python3.9/site-packages (from keras-tcn>=3.4.0->timeseries-store-sale==0.1.26) (2.11.1)\n",
      "Requirement already satisfied: tensorflow-addons in /Users/zhangle/Documents/notebook/myenv/lib/python3.9/site-packages (from keras-tcn>=3.4.0->timeseries-store-sale==0.1.26) (0.19.0)\n",
      "Requirement already satisfied: packaging>=20.0 in /Users/zhangle/Documents/notebook/myenv/lib/python3.9/site-packages (from matplotlib>=3.1.1->timeseries-store-sale==0.1.26) (23.0)\n",
      "Requirement already satisfied: fonttools>=4.22.0 in /Users/zhangle/Documents/notebook/myenv/lib/python3.9/site-packages (from matplotlib>=3.1.1->timeseries-store-sale==0.1.26) (4.39.2)\n",
      "Requirement already satisfied: python-dateutil>=2.7 in /Users/zhangle/Documents/notebook/myenv/lib/python3.9/site-packages (from matplotlib>=3.1.1->timeseries-store-sale==0.1.26) (2.8.2)\n",
      "Requirement already satisfied: pillow>=6.2.0 in /Users/zhangle/Documents/notebook/myenv/lib/python3.9/site-packages (from matplotlib>=3.1.1->timeseries-store-sale==0.1.26) (9.4.0)\n",
      "Requirement already satisfied: contourpy>=1.0.1 in /Users/zhangle/Documents/notebook/myenv/lib/python3.9/site-packages (from matplotlib>=3.1.1->timeseries-store-sale==0.1.26) (1.0.7)\n",
      "Requirement already satisfied: pyparsing>=2.3.1 in /Users/zhangle/Documents/notebook/myenv/lib/python3.9/site-packages (from matplotlib>=3.1.1->timeseries-store-sale==0.1.26) (3.0.9)\n",
      "Requirement already satisfied: importlib-resources>=3.2.0 in /Users/zhangle/Documents/notebook/myenv/lib/python3.9/site-packages (from matplotlib>=3.1.1->timeseries-store-sale==0.1.26) (5.12.0)\n",
      "Requirement already satisfied: cycler>=0.10 in /Users/zhangle/Documents/notebook/myenv/lib/python3.9/site-packages (from matplotlib>=3.1.1->timeseries-store-sale==0.1.26) (0.11.0)\n",
      "Requirement already satisfied: kiwisolver>=1.0.1 in /Users/zhangle/Documents/notebook/myenv/lib/python3.9/site-packages (from matplotlib>=3.1.1->timeseries-store-sale==0.1.26) (1.4.4)\n",
      "Requirement already satisfied: tqdm>=4.3 in /Users/zhangle/Documents/notebook/myenv/lib/python3.9/site-packages (from ngboost>=0.3.13->timeseries-store-sale==0.1.26) (4.65.0)\n",
      "Requirement already satisfied: flake8<6.0.0,>=5.0.4 in /Users/zhangle/Documents/notebook/myenv/lib/python3.9/site-packages (from ngboost>=0.3.13->timeseries-store-sale==0.1.26) (5.0.4)\n",
      "Requirement already satisfied: lifelines>=0.25 in /Users/zhangle/Documents/notebook/myenv/lib/python3.9/site-packages (from ngboost>=0.3.13->timeseries-store-sale==0.1.26) (0.27.4)\n",
      "Requirement already satisfied: scipy>=1.7.2 in /Users/zhangle/Documents/notebook/myenv/lib/python3.9/site-packages (from ngboost>=0.3.13->timeseries-store-sale==0.1.26) (1.10.1)\n",
      "Requirement already satisfied: sqlalchemy>=1.3.0 in /Users/zhangle/Documents/notebook/myenv/lib/python3.9/site-packages (from optuna>=2.10.0->timeseries-store-sale==0.1.26) (2.0.7)\n",
      "Requirement already satisfied: cmaes>=0.9.1 in /Users/zhangle/Documents/notebook/myenv/lib/python3.9/site-packages (from optuna>=2.10.0->timeseries-store-sale==0.1.26) (0.9.1)\n",
      "Requirement already satisfied: PyYAML in /Users/zhangle/Documents/notebook/myenv/lib/python3.9/site-packages (from optuna>=2.10.0->timeseries-store-sale==0.1.26) (6.0)\n",
      "Requirement already satisfied: alembic>=1.5.0 in /Users/zhangle/Documents/notebook/myenv/lib/python3.9/site-packages (from optuna>=2.10.0->timeseries-store-sale==0.1.26) (1.10.2)\n",
      "Requirement already satisfied: colorlog in /Users/zhangle/Documents/notebook/myenv/lib/python3.9/site-packages (from optuna>=2.10.0->timeseries-store-sale==0.1.26) (6.7.0)\n",
      "Requirement already satisfied: threadpoolctl>=2.0.0 in /Users/zhangle/Documents/notebook/myenv/lib/python3.9/site-packages (from scikit-learn>=1.0.2->timeseries-store-sale==0.1.26) (3.1.0)\n",
      "Requirement already satisfied: joblib>=1.1.1 in /Users/zhangle/Documents/notebook/myenv/lib/python3.9/site-packages (from scikit-learn>=1.0.2->timeseries-store-sale==0.1.26) (1.2.0)\n",
      "Requirement already satisfied: patsy>=0.5.2 in /Users/zhangle/Documents/notebook/myenv/lib/python3.9/site-packages (from statsmodels>=0.13.5->timeseries-store-sale==0.1.26) (0.5.3)\n",
      "Requirement already satisfied: filelock in /Users/zhangle/Documents/notebook/myenv/lib/python3.9/site-packages (from torch>=1.6.0->timeseries-store-sale==0.1.26) (3.10.0)\n",
      "Requirement already satisfied: networkx in /Users/zhangle/Documents/notebook/myenv/lib/python3.9/site-packages (from torch>=1.6.0->timeseries-store-sale==0.1.26) (3.0)\n",
      "Requirement already satisfied: sympy in /Users/zhangle/Documents/notebook/myenv/lib/python3.9/site-packages (from torch>=1.6.0->timeseries-store-sale==0.1.26) (1.11.1)\n",
      "Requirement already satisfied: jinja2 in /Users/zhangle/Documents/notebook/myenv/lib/python3.9/site-packages (from torch>=1.6.0->timeseries-store-sale==0.1.26) (3.1.2)\n",
      "Requirement already satisfied: typing-extensions in /Users/zhangle/Documents/notebook/myenv/lib/python3.9/site-packages (from torch>=1.6.0->timeseries-store-sale==0.1.26) (4.5.0)\n",
      "Requirement already satisfied: Mako in /Users/zhangle/Documents/notebook/myenv/lib/python3.9/site-packages (from alembic>=1.5.0->optuna>=2.10.0->timeseries-store-sale==0.1.26) (1.2.4)\n",
      "Requirement already satisfied: pycodestyle<2.10.0,>=2.9.0 in /Users/zhangle/Documents/notebook/myenv/lib/python3.9/site-packages (from flake8<6.0.0,>=5.0.4->ngboost>=0.3.13->timeseries-store-sale==0.1.26) (2.9.1)\n",
      "Requirement already satisfied: mccabe<0.8.0,>=0.7.0 in /Users/zhangle/Documents/notebook/myenv/lib/python3.9/site-packages (from flake8<6.0.0,>=5.0.4->ngboost>=0.3.13->timeseries-store-sale==0.1.26) (0.7.0)\n",
      "Requirement already satisfied: pyflakes<2.6.0,>=2.5.0 in /Users/zhangle/Documents/notebook/myenv/lib/python3.9/site-packages (from flake8<6.0.0,>=5.0.4->ngboost>=0.3.13->timeseries-store-sale==0.1.26) (2.5.0)\n"
     ]
    },
    {
     "name": "stdout",
     "output_type": "stream",
     "text": [
      "Requirement already satisfied: zipp>=3.1.0 in /Users/zhangle/Documents/notebook/myenv/lib/python3.9/site-packages (from importlib-resources>=3.2.0->matplotlib>=3.1.1->timeseries-store-sale==0.1.26) (3.15.0)\n",
      "Requirement already satisfied: autograd-gamma>=0.3 in /Users/zhangle/Documents/notebook/myenv/lib/python3.9/site-packages (from lifelines>=0.25->ngboost>=0.3.13->timeseries-store-sale==0.1.26) (0.5.0)\n",
      "Requirement already satisfied: formulaic>=0.2.2 in /Users/zhangle/Documents/notebook/myenv/lib/python3.9/site-packages (from lifelines>=0.25->ngboost>=0.3.13->timeseries-store-sale==0.1.26) (0.5.2)\n",
      "Requirement already satisfied: autograd>=1.5 in /Users/zhangle/Documents/notebook/myenv/lib/python3.9/site-packages (from lifelines>=0.25->ngboost>=0.3.13->timeseries-store-sale==0.1.26) (1.5)\n",
      "Requirement already satisfied: six in /Users/zhangle/Documents/notebook/myenv/lib/python3.9/site-packages (from patsy>=0.5.2->statsmodels>=0.13.5->timeseries-store-sale==0.1.26) (1.16.0)\n",
      "Requirement already satisfied: greenlet!=0.4.17 in /Users/zhangle/Documents/notebook/myenv/lib/python3.9/site-packages (from sqlalchemy>=1.3.0->optuna>=2.10.0->timeseries-store-sale==0.1.26) (2.0.2)\n",
      "Requirement already satisfied: MarkupSafe>=2.0 in /Users/zhangle/Documents/notebook/myenv/lib/python3.9/site-packages (from jinja2->torch>=1.6.0->timeseries-store-sale==0.1.26) (2.1.2)\n",
      "Requirement already satisfied: mpmath>=0.19 in /Users/zhangle/Documents/notebook/myenv/lib/python3.9/site-packages (from sympy->torch>=1.6.0->timeseries-store-sale==0.1.26) (1.3.0)\n",
      "Requirement already satisfied: opt-einsum>=2.3.2 in /Users/zhangle/Documents/notebook/myenv/lib/python3.9/site-packages (from tensorflow->keras-tcn>=3.4.0->timeseries-store-sale==0.1.26) (3.3.0)\n",
      "Requirement already satisfied: grpcio<2.0,>=1.24.3 in /Users/zhangle/Documents/notebook/myenv/lib/python3.9/site-packages (from tensorflow->keras-tcn>=3.4.0->timeseries-store-sale==0.1.26) (1.51.3)\n",
      "Requirement already satisfied: astunparse>=1.6.0 in /Users/zhangle/Documents/notebook/myenv/lib/python3.9/site-packages (from tensorflow->keras-tcn>=3.4.0->timeseries-store-sale==0.1.26) (1.6.3)\n",
      "Requirement already satisfied: libclang>=13.0.0 in /Users/zhangle/Documents/notebook/myenv/lib/python3.9/site-packages (from tensorflow->keras-tcn>=3.4.0->timeseries-store-sale==0.1.26) (15.0.6.1)\n",
      "Requirement already satisfied: gast<=0.4.0,>=0.2.1 in /Users/zhangle/Documents/notebook/myenv/lib/python3.9/site-packages (from tensorflow->keras-tcn>=3.4.0->timeseries-store-sale==0.1.26) (0.4.0)\n",
      "Requirement already satisfied: absl-py>=1.0.0 in /Users/zhangle/Documents/notebook/myenv/lib/python3.9/site-packages (from tensorflow->keras-tcn>=3.4.0->timeseries-store-sale==0.1.26) (1.4.0)\n",
      "Requirement already satisfied: flatbuffers>=2.0 in /Users/zhangle/Documents/notebook/myenv/lib/python3.9/site-packages (from tensorflow->keras-tcn>=3.4.0->timeseries-store-sale==0.1.26) (23.3.3)\n",
      "Requirement already satisfied: setuptools in /Users/zhangle/Documents/notebook/myenv/lib/python3.9/site-packages (from tensorflow->keras-tcn>=3.4.0->timeseries-store-sale==0.1.26) (65.6.3)\n",
      "Requirement already satisfied: google-pasta>=0.1.1 in /Users/zhangle/Documents/notebook/myenv/lib/python3.9/site-packages (from tensorflow->keras-tcn>=3.4.0->timeseries-store-sale==0.1.26) (0.2.0)\n",
      "Requirement already satisfied: tensorflow-io-gcs-filesystem>=0.23.1 in /Users/zhangle/Documents/notebook/myenv/lib/python3.9/site-packages (from tensorflow->keras-tcn>=3.4.0->timeseries-store-sale==0.1.26) (0.31.0)\n",
      "Requirement already satisfied: termcolor>=1.1.0 in /Users/zhangle/Documents/notebook/myenv/lib/python3.9/site-packages (from tensorflow->keras-tcn>=3.4.0->timeseries-store-sale==0.1.26) (2.2.0)\n",
      "Requirement already satisfied: wrapt>=1.11.0 in /Users/zhangle/Documents/notebook/myenv/lib/python3.9/site-packages (from tensorflow->keras-tcn>=3.4.0->timeseries-store-sale==0.1.26) (1.15.0)\n",
      "Requirement already satisfied: h5py>=2.9.0 in /Users/zhangle/Documents/notebook/myenv/lib/python3.9/site-packages (from tensorflow->keras-tcn>=3.4.0->timeseries-store-sale==0.1.26) (3.8.0)\n",
      "Requirement already satisfied: tensorboard<2.12,>=2.11 in /Users/zhangle/Documents/notebook/myenv/lib/python3.9/site-packages (from tensorflow->keras-tcn>=3.4.0->timeseries-store-sale==0.1.26) (2.11.2)\n",
      "Requirement already satisfied: tensorflow-estimator<2.12,>=2.11.0 in /Users/zhangle/Documents/notebook/myenv/lib/python3.9/site-packages (from tensorflow->keras-tcn>=3.4.0->timeseries-store-sale==0.1.26) (2.11.0)\n",
      "Requirement already satisfied: protobuf<3.20,>=3.9.2 in /Users/zhangle/Documents/notebook/myenv/lib/python3.9/site-packages (from tensorflow->keras-tcn>=3.4.0->timeseries-store-sale==0.1.26) (3.19.6)\n",
      "Requirement already satisfied: keras<2.12,>=2.11.0 in /Users/zhangle/Documents/notebook/myenv/lib/python3.9/site-packages (from tensorflow->keras-tcn>=3.4.0->timeseries-store-sale==0.1.26) (2.11.0)\n",
      "Requirement already satisfied: typeguard>=2.7 in /Users/zhangle/Documents/notebook/myenv/lib/python3.9/site-packages (from tensorflow-addons->keras-tcn>=3.4.0->timeseries-store-sale==0.1.26) (3.0.1)\n",
      "Requirement already satisfied: wheel<1.0,>=0.23.0 in /Users/zhangle/Documents/notebook/myenv/lib/python3.9/site-packages (from astunparse>=1.6.0->tensorflow->keras-tcn>=3.4.0->timeseries-store-sale==0.1.26) (0.40.0)\n",
      "Requirement already satisfied: future>=0.15.2 in /Users/zhangle/Documents/notebook/myenv/lib/python3.9/site-packages (from autograd>=1.5->lifelines>=0.25->ngboost>=0.3.13->timeseries-store-sale==0.1.26) (0.18.3)\n",
      "Requirement already satisfied: interface-meta>=1.2.0 in /Users/zhangle/Documents/notebook/myenv/lib/python3.9/site-packages (from formulaic>=0.2.2->lifelines>=0.25->ngboost>=0.3.13->timeseries-store-sale==0.1.26) (1.3.0)\n",
      "Requirement already satisfied: astor>=0.8 in /Users/zhangle/Documents/notebook/myenv/lib/python3.9/site-packages (from formulaic>=0.2.2->lifelines>=0.25->ngboost>=0.3.13->timeseries-store-sale==0.1.26) (0.8.1)\n",
      "Requirement already satisfied: werkzeug>=1.0.1 in /Users/zhangle/Documents/notebook/myenv/lib/python3.9/site-packages (from tensorboard<2.12,>=2.11->tensorflow->keras-tcn>=3.4.0->timeseries-store-sale==0.1.26) (2.2.3)\n",
      "Requirement already satisfied: google-auth<3,>=1.6.3 in /Users/zhangle/Documents/notebook/myenv/lib/python3.9/site-packages (from tensorboard<2.12,>=2.11->tensorflow->keras-tcn>=3.4.0->timeseries-store-sale==0.1.26) (2.16.2)\n",
      "Requirement already satisfied: tensorboard-plugin-wit>=1.6.0 in /Users/zhangle/Documents/notebook/myenv/lib/python3.9/site-packages (from tensorboard<2.12,>=2.11->tensorflow->keras-tcn>=3.4.0->timeseries-store-sale==0.1.26) (1.8.1)\n",
      "Requirement already satisfied: markdown>=2.6.8 in /Users/zhangle/Documents/notebook/myenv/lib/python3.9/site-packages (from tensorboard<2.12,>=2.11->tensorflow->keras-tcn>=3.4.0->timeseries-store-sale==0.1.26) (3.4.1)\n",
      "Requirement already satisfied: requests<3,>=2.21.0 in /Users/zhangle/Documents/notebook/myenv/lib/python3.9/site-packages (from tensorboard<2.12,>=2.11->tensorflow->keras-tcn>=3.4.0->timeseries-store-sale==0.1.26) (2.28.2)\n",
      "Requirement already satisfied: tensorboard-data-server<0.7.0,>=0.6.0 in /Users/zhangle/Documents/notebook/myenv/lib/python3.9/site-packages (from tensorboard<2.12,>=2.11->tensorflow->keras-tcn>=3.4.0->timeseries-store-sale==0.1.26) (0.6.1)\n",
      "Requirement already satisfied: google-auth-oauthlib<0.5,>=0.4.1 in /Users/zhangle/Documents/notebook/myenv/lib/python3.9/site-packages (from tensorboard<2.12,>=2.11->tensorflow->keras-tcn>=3.4.0->timeseries-store-sale==0.1.26) (0.4.6)\n",
      "Requirement already satisfied: importlib-metadata>=3.6 in /Users/zhangle/Documents/notebook/myenv/lib/python3.9/site-packages (from typeguard>=2.7->tensorflow-addons->keras-tcn>=3.4.0->timeseries-store-sale==0.1.26) (6.1.0)\n",
      "Requirement already satisfied: cachetools<6.0,>=2.0.0 in /Users/zhangle/Documents/notebook/myenv/lib/python3.9/site-packages (from google-auth<3,>=1.6.3->tensorboard<2.12,>=2.11->tensorflow->keras-tcn>=3.4.0->timeseries-store-sale==0.1.26) (5.3.0)\n",
      "Requirement already satisfied: rsa<5,>=3.1.4 in /Users/zhangle/Documents/notebook/myenv/lib/python3.9/site-packages (from google-auth<3,>=1.6.3->tensorboard<2.12,>=2.11->tensorflow->keras-tcn>=3.4.0->timeseries-store-sale==0.1.26) (4.9)\n",
      "Requirement already satisfied: pyasn1-modules>=0.2.1 in /Users/zhangle/Documents/notebook/myenv/lib/python3.9/site-packages (from google-auth<3,>=1.6.3->tensorboard<2.12,>=2.11->tensorflow->keras-tcn>=3.4.0->timeseries-store-sale==0.1.26) (0.2.8)\n"
     ]
    },
    {
     "name": "stdout",
     "output_type": "stream",
     "text": [
      "Requirement already satisfied: requests-oauthlib>=0.7.0 in /Users/zhangle/Documents/notebook/myenv/lib/python3.9/site-packages (from google-auth-oauthlib<0.5,>=0.4.1->tensorboard<2.12,>=2.11->tensorflow->keras-tcn>=3.4.0->timeseries-store-sale==0.1.26) (1.3.1)\n",
      "Requirement already satisfied: charset-normalizer<4,>=2 in /Users/zhangle/Documents/notebook/myenv/lib/python3.9/site-packages (from requests<3,>=2.21.0->tensorboard<2.12,>=2.11->tensorflow->keras-tcn>=3.4.0->timeseries-store-sale==0.1.26) (3.1.0)\n",
      "Requirement already satisfied: idna<4,>=2.5 in /Users/zhangle/Documents/notebook/myenv/lib/python3.9/site-packages (from requests<3,>=2.21.0->tensorboard<2.12,>=2.11->tensorflow->keras-tcn>=3.4.0->timeseries-store-sale==0.1.26) (3.4)\n",
      "Requirement already satisfied: urllib3<1.27,>=1.21.1 in /Users/zhangle/Documents/notebook/myenv/lib/python3.9/site-packages (from requests<3,>=2.21.0->tensorboard<2.12,>=2.11->tensorflow->keras-tcn>=3.4.0->timeseries-store-sale==0.1.26) (1.26.15)\n",
      "Requirement already satisfied: certifi>=2017.4.17 in /Users/zhangle/Documents/notebook/myenv/lib/python3.9/site-packages (from requests<3,>=2.21.0->tensorboard<2.12,>=2.11->tensorflow->keras-tcn>=3.4.0->timeseries-store-sale==0.1.26) (2022.12.7)\n",
      "Requirement already satisfied: pyasn1<0.5.0,>=0.4.6 in /Users/zhangle/Documents/notebook/myenv/lib/python3.9/site-packages (from pyasn1-modules>=0.2.1->google-auth<3,>=1.6.3->tensorboard<2.12,>=2.11->tensorflow->keras-tcn>=3.4.0->timeseries-store-sale==0.1.26) (0.4.8)\n",
      "Requirement already satisfied: oauthlib>=3.0.0 in /Users/zhangle/Documents/notebook/myenv/lib/python3.9/site-packages (from requests-oauthlib>=0.7.0->google-auth-oauthlib<0.5,>=0.4.1->tensorboard<2.12,>=2.11->tensorflow->keras-tcn>=3.4.0->timeseries-store-sale==0.1.26) (3.2.2)\n",
      "\n",
      "\u001b[1m[\u001b[0m\u001b[34;49mnotice\u001b[0m\u001b[1;39;49m]\u001b[0m\u001b[39;49m A new release of pip available: \u001b[0m\u001b[31;49m22.3.1\u001b[0m\u001b[39;49m -> \u001b[0m\u001b[32;49m23.0.1\u001b[0m\n",
      "\u001b[1m[\u001b[0m\u001b[34;49mnotice\u001b[0m\u001b[1;39;49m]\u001b[0m\u001b[39;49m To update, run: \u001b[0m\u001b[32;49mpip install --upgrade pip\u001b[0m\n"
     ]
    }
   ],
   "source": [
    "!pip install timeseries-store-sale==0.1.26"
   ]
  },
  {
   "cell_type": "code",
   "execution_count": 2,
   "id": "3313e9d0",
   "metadata": {},
   "outputs": [],
   "source": [
    "from timeseries_store_sale.data.preprocessing import PreprocessData\n",
    "from timeseries_store_sale.data.generate_dataloader import TimeSeriesDataLoader\n",
    "from timeseries_store_sale.model.train import TrainLSTM\n",
    "\n",
    "import warnings\n",
    "warnings.filterwarnings('ignore')"
   ]
  },
  {
   "cell_type": "code",
   "execution_count": 3,
   "id": "3bb4bdc5",
   "metadata": {},
   "outputs": [
    {
     "name": "stdout",
     "output_type": "stream",
     "text": [
      "CPU times: user 1min 48s, sys: 18.9 s, total: 2min 7s\n",
      "Wall time: 2min 26s\n"
     ]
    },
    {
     "data": {
      "text/plain": [
       "(1588, 203148)"
      ]
     },
     "execution_count": 3,
     "metadata": {},
     "output_type": "execute_result"
    }
   ],
   "source": [
    "%%time\n",
    "ds = TimeSeriesDataLoader()\n",
    "\n",
    "# get train data loader\n",
    "start_date = '2013-01-01'\n",
    "end_data = '2013-06-01'\n",
    "\n",
    "data_path = {\n",
    "    'main': '../data/train.csv',\n",
    "    'oil': '../data/oil.csv',\n",
    "    'holiday': '../data/holidays_events.csv',\n",
    "    'transaction': '../data/transactions.csv',\n",
    "    'store': '../data/stores.csv'\n",
    "}\n",
    "ds.get_datasets(start_date, end_data, data_path)\n",
    "ds.get_data_loader(True)\n",
    "train_dataloader = ds.data_loader\n",
    "len(ds.data_loader), len(ds.data_loader.dataset)"
   ]
  },
  {
   "cell_type": "code",
   "execution_count": 4,
   "id": "4d289968",
   "metadata": {},
   "outputs": [
    {
     "name": "stdout",
     "output_type": "stream",
     "text": [
      "CPU times: user 1min 41s, sys: 17 s, total: 1min 58s\n",
      "Wall time: 2min 6s\n"
     ]
    },
    {
     "data": {
      "text/plain": [
       "(209, 26730)"
      ]
     },
     "execution_count": 4,
     "metadata": {},
     "output_type": "execute_result"
    }
   ],
   "source": [
    "%%time\n",
    "# get test data loader\n",
    "start_date = '2017-01-01'\n",
    "end_data = '2017-03-01'\n",
    "\n",
    "\n",
    "ds.get_datasets(start_date, end_data, data_path)\n",
    "ds.get_data_loader(False)\n",
    "valid_dataloader = ds.data_loader\n",
    "len(ds.data_loader), len(ds.data_loader.dataset)\n"
   ]
  },
  {
   "cell_type": "markdown",
   "id": "7f1600fc",
   "metadata": {},
   "source": [
    "# Train"
   ]
  },
  {
   "cell_type": "code",
   "execution_count": null,
   "id": "0717fcf3",
   "metadata": {},
   "outputs": [
    {
     "name": "stdout",
     "output_type": "stream",
     "text": [
      "--------------------start training-------------------\n",
      "epoch:0 spend time:0h 2m training loss(mse): 3799314.3224186306 validation loss(mse): 1743455.8347426632\n",
      "epoch:1 spend time:0h 3m training loss(mse): 3551151.0498994575 validation loss(mse): 1672918.1146958363\n",
      "epoch:2 spend time:0h 3m training loss(mse): 3343563.3451649197 validation loss(mse): 1609033.2077082356\n",
      "epoch:3 spend time:0h 2m training loss(mse): 3159617.18748809 validation loss(mse): 1550318.4526817496\n",
      "epoch:4 spend time:0h 2m training loss(mse): 2994470.2079487 validation loss(mse): 1495903.1218946422\n",
      "epoch:5 spend time:0h 2m training loss(mse): 2845649.83316217 validation loss(mse): 1445089.273791691\n",
      "epoch:6 spend time:0h 2m training loss(mse): 2710439.128616606 validation loss(mse): 1397574.0321036405\n"
     ]
    }
   ],
   "source": [
    "o = TrainLSTM(True)\n",
    "o.update_pramas(input_size = 26)\n",
    "o.train(train_dataloader, valid_dataloader)"
   ]
  },
  {
   "cell_type": "code",
   "execution_count": null,
   "id": "50d15f57",
   "metadata": {},
   "outputs": [],
   "source": []
  },
  {
   "cell_type": "code",
   "execution_count": 6,
   "id": "d9e11101",
   "metadata": {},
   "outputs": [],
   "source": []
  },
  {
   "cell_type": "code",
   "execution_count": 6,
   "id": "a427b471",
   "metadata": {},
   "outputs": [],
   "source": []
  }
 ],
 "metadata": {
  "kernelspec": {
   "display_name": "Python 3 (ipykernel)",
   "language": "python",
   "name": "python3"
  },
  "language_info": {
   "codemirror_mode": {
    "name": "ipython",
    "version": 3
   },
   "file_extension": ".py",
   "mimetype": "text/x-python",
   "name": "python",
   "nbconvert_exporter": "python",
   "pygments_lexer": "ipython3",
   "version": "3.9.16"
  }
 },
 "nbformat": 4,
 "nbformat_minor": 5
}
